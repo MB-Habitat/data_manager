{
 "cells": [
  {
   "cell_type": "code",
   "execution_count": 0,
   "metadata": {
    "application/vnd.databricks.v1+cell": {
     "cellMetadata": {
      "byteLimit": 2048000,
      "rowLimit": 10000
     },
     "inputWidgets": {},
     "nuid": "94f76489-6c2b-4ee6-9e8e-a46a409f69c4",
     "showTitle": false,
     "title": ""
    }
   },
   "outputs": [],
   "source": [
    "%%capture\n",
    "%run ../data_manager/utilities"
   ]
  },
  {
   "cell_type": "code",
   "execution_count": 0,
   "metadata": {
    "application/vnd.databricks.v1+cell": {
     "cellMetadata": {
      "byteLimit": 2048000,
      "rowLimit": 10000
     },
     "inputWidgets": {},
     "nuid": "4e384a99-d7b3-45be-b602-0daf23ace661",
     "showTitle": false,
     "title": ""
    }
   },
   "outputs": [],
   "source": [
    "shp_file = [\".dbf\", \".prj\", \".shp\", \".shx\"]\n",
    "tif_file = [\".tif\"]\n",
    "csv_file = [\".csv\"]"
   ]
  },
  {
   "cell_type": "code",
   "execution_count": 0,
   "metadata": {
    "application/vnd.databricks.v1+cell": {
     "cellMetadata": {},
     "inputWidgets": {},
     "nuid": "232fb555-beef-47ea-bd0b-ff9de735cfe4",
     "showTitle": false,
     "title": ""
    }
   },
   "outputs": [],
   "source": [
    "raw_folder_path = \"/mnt/database/raw\""
   ]
  },
  {
   "cell_type": "code",
   "execution_count": 0,
   "metadata": {
    "application/vnd.databricks.v1+cell": {
     "cellMetadata": {},
     "inputWidgets": {},
     "nuid": "947cda29-08bd-4645-a927-4470fa5e445e",
     "showTitle": false,
     "title": ""
    }
   },
   "outputs": [],
   "source": [
    "storage_account_name=\"datatest42\"\n",
    "blob_key = \"sv=2022-11-02&ss=bfqt&srt=sco&sp=rwdlacupyx&se=2024-08-31T03:31:55Z&st=2024-07-15T19:31:55Z&spr=https&sig=L3Ly%2Fos9foips1W5CkGiyg0hXZc%2BT2FzPN%2FuHOe%2BY58%3D\""
   ]
  },
  {
   "cell_type": "code",
   "execution_count": 0,
   "metadata": {
    "application/vnd.databricks.v1+cell": {
     "cellMetadata": {},
     "inputWidgets": {},
     "nuid": "20c12e28-ae51-454c-baca-0933388d946f",
     "showTitle": false,
     "title": ""
    }
   },
   "outputs": [],
   "source": [
    "files_paths = get_files_paths_from_folders(raw_folder_path)\n",
    "paths = [path.split(\"/\")[2:] for path in files_paths]"
   ]
  }
 ],
 "metadata": {
  "application/vnd.databricks.v1+notebook": {
   "dashboards": [],
   "environmentMetadata": null,
   "language": "python",
   "notebookMetadata": {
    "pythonIndentUnit": 4
   },
   "notebookName": "tif_file_process",
   "widgets": {}
  }
 },
 "nbformat": 4,
 "nbformat_minor": 0
}
