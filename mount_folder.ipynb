{
 "cells": [
  {
   "cell_type": "markdown",
   "metadata": {
    "application/vnd.databricks.v1+cell": {
     "cellMetadata": {},
     "inputWidgets": {},
     "nuid": "569b673d-d602-4eff-8d31-be2207eb632f",
     "showTitle": false,
     "title": ""
    }
   },
   "source": [
    "---\n",
    "Author: Mustapha Bouhsen <br>\n",
    "Email : mustapha.bouhsen@habitat-nature.com <br>\n",
    "Date: July 31, 2024<br>\n",
    "---"
   ]
  },
  {
   "cell_type": "markdown",
   "metadata": {
    "application/vnd.databricks.v1+cell": {
     "cellMetadata": {},
     "inputWidgets": {},
     "nuid": "f245430c-fa4d-428f-9918-2736a5c63d15",
     "showTitle": false,
     "title": ""
    }
   },
   "source": [
    "## Create the mount folder\n",
    "\n",
    "In this section, we create a mount folder to get access the data in the blob storage"
   ]
  },
  {
   "cell_type": "code",
   "execution_count": 0,
   "metadata": {
    "application/vnd.databricks.v1+cell": {
     "cellMetadata": {},
     "inputWidgets": {},
     "nuid": "a76ebcb8-83bb-43fa-9c87-794f0221f6ea",
     "showTitle": false,
     "title": ""
    }
   },
   "outputs": [],
   "source": [
    "# storage_account_name = \"datatest42\"\n",
    "# storage_key = \"sv=2022-11-02&ss=bfqt&srt=sco&sp=rwdlacupyx&se=2024-08-31T03:31:55Z&st=2024-07-15T19:31:55Z&spr=https&sig=L3Ly%2Fos9foips1W5CkGiyg0hXZc%2BT2FzPN%2FuHOe%2BY58%3D\"\n",
    "# container_name = \"database\""
   ]
  },
  {
   "cell_type": "code",
   "execution_count": 0,
   "metadata": {
    "application/vnd.databricks.v1+cell": {
     "cellMetadata": {},
     "inputWidgets": {},
     "nuid": "a1120b23-6d47-4bde-946d-05d2aae65840",
     "showTitle": false,
     "title": ""
    }
   },
   "outputs": [],
   "source": [
    "# mount_point = f\"/mnt/{container_name}\"\n",
    "\n",
    "# dbutils.fs.mount(\n",
    "#   source = f\"wasbs://{container_name}@{storage_account_name}.blob.core.windows.net/\",\n",
    "#   mount_point = mount_point,\n",
    "#   extra_configs = {f\"fs.azure.sas.{container_name}.{storage_account_name}.blob.core.windows.net\":storage_key})"
   ]
  }
 ],
 "metadata": {
  "application/vnd.databricks.v1+notebook": {
   "dashboards": [],
   "environmentMetadata": null,
   "language": "python",
   "notebookMetadata": {
    "pythonIndentUnit": 4
   },
   "notebookName": "mount_folder",
   "widgets": {}
  }
 },
 "nbformat": 4,
 "nbformat_minor": 0
}
