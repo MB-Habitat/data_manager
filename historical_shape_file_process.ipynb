{
 "cells": [
  {
   "cell_type": "markdown",
   "metadata": {
    "application/vnd.databricks.v1+cell": {
     "cellMetadata": {
      "byteLimit": 2048000,
      "rowLimit": 10000
     },
     "inputWidgets": {},
     "nuid": "c18bd0b5-1155-4011-9337-af682095d4a0",
     "showTitle": false,
     "title": ""
    }
   },
   "source": [
    "%md\n",
    "---\n",
    "Author: Mustapha Bouhsen <br>\n",
    "Email : mustapha.bouhsen@habitat-nature.com <br>\n",
    "Date: July 31, 2024<br>\n",
    "---"
   ]
  },
  {
   "cell_type": "code",
   "execution_count": 0,
   "metadata": {
    "application/vnd.databricks.v1+cell": {
     "cellMetadata": {
      "byteLimit": 2048000,
      "rowLimit": 10000
     },
     "collapsed": true,
     "inputWidgets": {},
     "nuid": "94f76489-6c2b-4ee6-9e8e-a46a409f69c4",
     "showTitle": false,
     "title": ""
    }
   },
   "outputs": [
    {
     "output_type": "display_data",
     "data": {
      "text/html": [
       "<style scoped>\n",
       "  .ansiout {\n",
       "    display: block;\n",
       "    unicode-bidi: embed;\n",
       "    white-space: pre-wrap;\n",
       "    word-wrap: break-word;\n",
       "    word-break: break-all;\n",
       "    font-family: \"Menlo\", \"Monaco\", \"Consolas\", \"Ubuntu Mono\", \"Source Code Pro\", monospace;\n",
       "    font-size: 13px;\n",
       "    color: #555;\n",
       "    margin-left: 4px;\n",
       "    line-height: 19px;\n",
       "  }\n",
       "</style>\n",
       "<div class=\"ansiout\"></div>"
      ]
     },
     "metadata": {
      "application/vnd.databricks.v1+output": {
       "addedWidgets": {},
       "arguments": {},
       "data": "<div class=\"ansiout\"></div>",
       "datasetInfos": [],
       "metadata": {},
       "removedWidgets": [],
       "type": "html"
      }
     },
     "output_type": "display_data"
    },
    {
     "output_type": "display_data",
     "data": {
      "text/html": [
       "<style scoped>\n",
       "  .ansiout {\n",
       "    display: block;\n",
       "    unicode-bidi: embed;\n",
       "    white-space: pre-wrap;\n",
       "    word-wrap: break-word;\n",
       "    word-break: break-all;\n",
       "    font-family: \"Menlo\", \"Monaco\", \"Consolas\", \"Ubuntu Mono\", \"Source Code Pro\", monospace;\n",
       "    font-size: 13px;\n",
       "    color: #555;\n",
       "    margin-left: 4px;\n",
       "    line-height: 19px;\n",
       "  }\n",
       "</style>\n",
       "<div class=\"ansiout\"></div>"
      ]
     },
     "metadata": {
      "application/vnd.databricks.v1+output": {
       "addedWidgets": {},
       "arguments": {},
       "data": "<div class=\"ansiout\"></div>",
       "datasetInfos": [],
       "metadata": {},
       "removedWidgets": [],
       "type": "html"
      }
     },
     "output_type": "display_data"
    },
    {
     "output_type": "display_data",
     "data": {
      "text/html": [
       "<style scoped>\n",
       "  .ansiout {\n",
       "    display: block;\n",
       "    unicode-bidi: embed;\n",
       "    white-space: pre-wrap;\n",
       "    word-wrap: break-word;\n",
       "    word-break: break-all;\n",
       "    font-family: \"Menlo\", \"Monaco\", \"Consolas\", \"Ubuntu Mono\", \"Source Code Pro\", monospace;\n",
       "    font-size: 13px;\n",
       "    color: #555;\n",
       "    margin-left: 4px;\n",
       "    line-height: 19px;\n",
       "  }\n",
       "</style>\n",
       "<div class=\"ansiout\"></div>"
      ]
     },
     "metadata": {
      "application/vnd.databricks.v1+output": {
       "addedWidgets": {},
       "arguments": {},
       "data": "<div class=\"ansiout\"></div>",
       "datasetInfos": [],
       "metadata": {},
       "removedWidgets": [],
       "type": "html"
      }
     },
     "output_type": "display_data"
    },
    {
     "output_type": "display_data",
     "data": {
      "text/html": [
       "<style scoped>\n",
       "  .ansiout {\n",
       "    display: block;\n",
       "    unicode-bidi: embed;\n",
       "    white-space: pre-wrap;\n",
       "    word-wrap: break-word;\n",
       "    word-break: break-all;\n",
       "    font-family: \"Menlo\", \"Monaco\", \"Consolas\", \"Ubuntu Mono\", \"Source Code Pro\", monospace;\n",
       "    font-size: 13px;\n",
       "    color: #555;\n",
       "    margin-left: 4px;\n",
       "    line-height: 19px;\n",
       "  }\n",
       "</style>\n",
       "<div class=\"ansiout\"></div>"
      ]
     },
     "metadata": {
      "application/vnd.databricks.v1+output": {
       "addedWidgets": {},
       "arguments": {},
       "data": "<div class=\"ansiout\"></div>",
       "datasetInfos": [],
       "metadata": {},
       "removedWidgets": [],
       "type": "html"
      }
     },
     "output_type": "display_data"
    },
    {
     "output_type": "display_data",
     "data": {
      "text/html": [
       "<style scoped>\n",
       "  .ansiout {\n",
       "    display: block;\n",
       "    unicode-bidi: embed;\n",
       "    white-space: pre-wrap;\n",
       "    word-wrap: break-word;\n",
       "    word-break: break-all;\n",
       "    font-family: \"Menlo\", \"Monaco\", \"Consolas\", \"Ubuntu Mono\", \"Source Code Pro\", monospace;\n",
       "    font-size: 13px;\n",
       "    color: #555;\n",
       "    margin-left: 4px;\n",
       "    line-height: 19px;\n",
       "  }\n",
       "</style>\n",
       "<div class=\"ansiout\"></div>"
      ]
     },
     "metadata": {
      "application/vnd.databricks.v1+output": {
       "addedWidgets": {},
       "arguments": {},
       "data": "<div class=\"ansiout\"></div>",
       "datasetInfos": [],
       "metadata": {},
       "removedWidgets": [],
       "type": "html"
      }
     },
     "output_type": "display_data"
    },
    {
     "output_type": "display_data",
     "data": {
      "text/html": [
       "<style scoped>\n",
       "  .ansiout {\n",
       "    display: block;\n",
       "    unicode-bidi: embed;\n",
       "    white-space: pre-wrap;\n",
       "    word-wrap: break-word;\n",
       "    word-break: break-all;\n",
       "    font-family: \"Menlo\", \"Monaco\", \"Consolas\", \"Ubuntu Mono\", \"Source Code Pro\", monospace;\n",
       "    font-size: 13px;\n",
       "    color: #555;\n",
       "    margin-left: 4px;\n",
       "    line-height: 19px;\n",
       "  }\n",
       "</style>\n",
       "<div class=\"ansiout\"></div>"
      ]
     },
     "metadata": {
      "application/vnd.databricks.v1+output": {
       "addedWidgets": {},
       "arguments": {},
       "data": "<div class=\"ansiout\"></div>",
       "datasetInfos": [],
       "metadata": {},
       "removedWidgets": [],
       "type": "html"
      }
     },
     "output_type": "display_data"
    }
   ],
   "source": [
    "%run ../data_manager/utility_functions"
   ]
  },
  {
   "cell_type": "code",
   "execution_count": 0,
   "metadata": {
    "application/vnd.databricks.v1+cell": {
     "cellMetadata": {
      "byteLimit": 2048000,
      "rowLimit": 10000
     },
     "inputWidgets": {},
     "nuid": "d3c9d79c-cbf9-49e4-9221-922304e109d1",
     "showTitle": false,
     "title": ""
    }
   },
   "outputs": [
    {
     "output_type": "display_data",
     "data": {
      "text/html": [
       "<style scoped>\n",
       "  .ansiout {\n",
       "    display: block;\n",
       "    unicode-bidi: embed;\n",
       "    white-space: pre-wrap;\n",
       "    word-wrap: break-word;\n",
       "    word-break: break-all;\n",
       "    font-family: \"Menlo\", \"Monaco\", \"Consolas\", \"Ubuntu Mono\", \"Source Code Pro\", monospace;\n",
       "    font-size: 13px;\n",
       "    color: #555;\n",
       "    margin-left: 4px;\n",
       "    line-height: 19px;\n",
       "  }\n",
       "</style>\n",
       "<div class=\"ansiout\"></div>"
      ]
     },
     "metadata": {
      "application/vnd.databricks.v1+output": {
       "addedWidgets": {},
       "arguments": {},
       "data": "<div class=\"ansiout\"></div>",
       "datasetInfos": [],
       "metadata": {},
       "removedWidgets": [],
       "type": "html"
      }
     },
     "output_type": "display_data"
    }
   ],
   "source": [
    "#%matplotlib inline"
   ]
  },
  {
   "cell_type": "code",
   "execution_count": 0,
   "metadata": {
    "application/vnd.databricks.v1+cell": {
     "cellMetadata": {
      "byteLimit": 2048000,
      "rowLimit": 10000
     },
     "inputWidgets": {},
     "nuid": "232fb555-beef-47ea-bd0b-ff9de735cfe4",
     "showTitle": false,
     "title": ""
    }
   },
   "outputs": [
    {
     "output_type": "display_data",
     "data": {
      "text/html": [
       "<style scoped>\n",
       "  .ansiout {\n",
       "    display: block;\n",
       "    unicode-bidi: embed;\n",
       "    white-space: pre-wrap;\n",
       "    word-wrap: break-word;\n",
       "    word-break: break-all;\n",
       "    font-family: \"Menlo\", \"Monaco\", \"Consolas\", \"Ubuntu Mono\", \"Source Code Pro\", monospace;\n",
       "    font-size: 13px;\n",
       "    color: #555;\n",
       "    margin-left: 4px;\n",
       "    line-height: 19px;\n",
       "  }\n",
       "</style>\n",
       "<div class=\"ansiout\"></div>"
      ]
     },
     "metadata": {
      "application/vnd.databricks.v1+output": {
       "addedWidgets": {},
       "arguments": {},
       "data": "<div class=\"ansiout\"></div>",
       "datasetInfos": [],
       "metadata": {},
       "removedWidgets": [],
       "type": "html"
      }
     },
     "output_type": "display_data"
    }
   ],
   "source": [
    "#######################\n",
    "# Seting the root paths\n",
    "#######################\n",
    "raw_folder_path = \"/mnt/database/raw/\"\n",
    "prod_folder_path = \"/mnt/database/prod/\"\n",
    "driver_path = \"file:/databricks/driver/\""
   ]
  },
  {
   "cell_type": "code",
   "execution_count": 0,
   "metadata": {
    "application/vnd.databricks.v1+cell": {
     "cellMetadata": {
      "byteLimit": 2048000,
      "rowLimit": 10000
     },
     "inputWidgets": {},
     "nuid": "b35eb885-54a6-42f8-93fa-c58e7dadd889",
     "showTitle": false,
     "title": ""
    }
   },
   "outputs": [
    {
     "output_type": "display_data",
     "data": {
      "text/html": [
       "<style scoped>\n",
       "  .ansiout {\n",
       "    display: block;\n",
       "    unicode-bidi: embed;\n",
       "    white-space: pre-wrap;\n",
       "    word-wrap: break-word;\n",
       "    word-break: break-all;\n",
       "    font-family: \"Menlo\", \"Monaco\", \"Consolas\", \"Ubuntu Mono\", \"Source Code Pro\", monospace;\n",
       "    font-size: 13px;\n",
       "    color: #555;\n",
       "    margin-left: 4px;\n",
       "    line-height: 19px;\n",
       "  }\n",
       "</style>\n",
       "<div class=\"ansiout\"></div>"
      ]
     },
     "metadata": {
      "application/vnd.databricks.v1+output": {
       "addedWidgets": {},
       "arguments": {},
       "data": "<div class=\"ansiout\"></div>",
       "datasetInfos": [],
       "metadata": {},
       "removedWidgets": [],
       "type": "html"
      }
     },
     "output_type": "display_data"
    }
   ],
   "source": [
    "files_paths = get_files_paths_from_folders(raw_folder_path, [\".shp\"])"
   ]
  },
  {
   "cell_type": "code",
   "execution_count": 0,
   "metadata": {
    "application/vnd.databricks.v1+cell": {
     "cellMetadata": {
      "byteLimit": 2048000,
      "rowLimit": 10000
     },
     "inputWidgets": {},
     "nuid": "6baf7bbb-2311-4019-a5b1-bc2c1835b1c9",
     "showTitle": false,
     "title": ""
    }
   },
   "outputs": [
    {
     "output_type": "display_data",
     "data": {
      "text/html": [
       "<style scoped>\n",
       "  .ansiout {\n",
       "    display: block;\n",
       "    unicode-bidi: embed;\n",
       "    white-space: pre-wrap;\n",
       "    word-wrap: break-word;\n",
       "    word-break: break-all;\n",
       "    font-family: \"Menlo\", \"Monaco\", \"Consolas\", \"Ubuntu Mono\", \"Source Code Pro\", monospace;\n",
       "    font-size: 13px;\n",
       "    color: #555;\n",
       "    margin-left: 4px;\n",
       "    line-height: 19px;\n",
       "  }\n",
       "</style>\n",
       "<div class=\"ansiout\">Out[29]: &#39;/dbfs/mnt/database/raw/admin-region/canada_btsl_btsl-delimitations_2022.shp&#39;</div>"
      ]
     },
     "metadata": {
      "application/vnd.databricks.v1+output": {
       "addedWidgets": {},
       "arguments": {},
       "data": "<div class=\"ansiout\">Out[29]: &#39;/dbfs/mnt/database/raw/admin-region/canada_btsl_btsl-delimitations_2022.shp&#39;</div>",
       "datasetInfos": [],
       "metadata": {},
       "removedWidgets": [],
       "type": "html"
      }
     },
     "output_type": "display_data"
    }
   ],
   "source": [
    "files_paths[0]"
   ]
  },
  {
   "cell_type": "code",
   "execution_count": 0,
   "metadata": {
    "application/vnd.databricks.v1+cell": {
     "cellMetadata": {
      "byteLimit": 2048000,
      "rowLimit": 10000
     },
     "inputWidgets": {},
     "nuid": "ee27fcfd-2aa1-4d95-a372-b5baf765e481",
     "showTitle": false,
     "title": ""
    }
   },
   "outputs": [
    {
     "output_type": "display_data",
     "data": {
      "text/html": [
       "<style scoped>\n",
       "  .ansiout {\n",
       "    display: block;\n",
       "    unicode-bidi: embed;\n",
       "    white-space: pre-wrap;\n",
       "    word-wrap: break-word;\n",
       "    word-break: break-all;\n",
       "    font-family: \"Menlo\", \"Monaco\", \"Consolas\", \"Ubuntu Mono\", \"Source Code Pro\", monospace;\n",
       "    font-size: 13px;\n",
       "    color: #555;\n",
       "    margin-left: 4px;\n",
       "    line-height: 19px;\n",
       "  }\n",
       "</style>\n",
       "<div class=\"ansiout\"></div>"
      ]
     },
     "metadata": {
      "application/vnd.databricks.v1+output": {
       "addedWidgets": {},
       "arguments": {},
       "data": "<div class=\"ansiout\"></div>",
       "datasetInfos": [],
       "metadata": {},
       "removedWidgets": [],
       "type": "html"
      }
     },
     "output_type": "display_data"
    }
   ],
   "source": [
    "import matplotlib.pyplot as plt"
   ]
  },
  {
   "cell_type": "code",
   "execution_count": 0,
   "metadata": {
    "application/vnd.databricks.v1+cell": {
     "cellMetadata": {
      "byteLimit": 2048000,
      "rowLimit": 10000
     },
     "inputWidgets": {},
     "nuid": "983e304c-5150-48e0-8491-55c57926be9e",
     "showTitle": false,
     "title": ""
    }
   },
   "outputs": [
    {
     "output_type": "display_data",
     "data": {
      "text/html": [
       "<style scoped>\n",
       "  .ansiout {\n",
       "    display: block;\n",
       "    unicode-bidi: embed;\n",
       "    white-space: pre-wrap;\n",
       "    word-wrap: break-word;\n",
       "    word-break: break-all;\n",
       "    font-family: \"Menlo\", \"Monaco\", \"Consolas\", \"Ubuntu Mono\", \"Source Code Pro\", monospace;\n",
       "    font-size: 13px;\n",
       "    color: #555;\n",
       "    margin-left: 4px;\n",
       "    line-height: 19px;\n",
       "  }\n",
       "</style>\n",
       "<div class=\"ansiout\"></div>"
      ]
     },
     "metadata": {
      "application/vnd.databricks.v1+output": {
       "addedWidgets": {},
       "arguments": {},
       "data": "<div class=\"ansiout\"></div>",
       "datasetInfos": [],
       "metadata": {},
       "removedWidgets": [],
       "type": "html"
      }
     },
     "output_type": "display_data"
    }
   ],
   "source": [
    "gdf = gpd.read_file(files_paths[0])"
   ]
  },
  {
   "cell_type": "code",
   "execution_count": 0,
   "metadata": {
    "application/vnd.databricks.v1+cell": {
     "cellMetadata": {
      "byteLimit": 2048000,
      "rowLimit": 10000
     },
     "inputWidgets": {},
     "nuid": "b4c1fb9c-898c-4f72-9248-0dc2827dcc81",
     "showTitle": false,
     "title": ""
    }
   },
   "outputs": [
    {
     "output_type": "display_data",
     "data": {
      "text/html": [
       "<style scoped>\n",
       "  .ansiout {\n",
       "    display: block;\n",
       "    unicode-bidi: embed;\n",
       "    white-space: pre-wrap;\n",
       "    word-wrap: break-word;\n",
       "    word-break: break-all;\n",
       "    font-family: \"Menlo\", \"Monaco\", \"Consolas\", \"Ubuntu Mono\", \"Source Code Pro\", monospace;\n",
       "    font-size: 13px;\n",
       "    color: #555;\n",
       "    margin-left: 4px;\n",
       "    line-height: 19px;\n",
       "  }\n",
       "</style>\n",
       "<div class=\"ansiout\">Out[32]: </div>"
      ]
     },
     "metadata": {
      "application/vnd.databricks.v1+output": {
       "addedWidgets": {},
       "arguments": {},
       "data": "<div class=\"ansiout\">Out[32]: </div>",
       "datasetInfos": [],
       "metadata": {},
       "removedWidgets": [],
       "type": "html"
      }
     },
     "output_type": "display_data"
    },
    {
     "output_type": "display_data",
     "data": {
      "image/png": "[encoded data removed]"
     },
     "metadata": {
      "application/vnd.databricks.v1+output": {
       "addedWidgets": {},
       "arguments": {},
       "data": "data:image/png;base64,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",
       "datasetInfos": [],
       "metadata": {
        "imageDimensions": {
         "height": 446,
         "width": 522
        }
       },
       "removedWidgets": [],
       "type": "image"
      },
      "image/png": {
       "height": 446,
       "width": 522
      }
     },
     "output_type": "display_data"
    },
    {
     "output_type": "display_data",
     "data": {
      "text/html": [
       "<style scoped>\n",
       "  .ansiout {\n",
       "    display: block;\n",
       "    unicode-bidi: embed;\n",
       "    white-space: pre-wrap;\n",
       "    word-wrap: break-word;\n",
       "    word-break: break-all;\n",
       "    font-family: \"Menlo\", \"Monaco\", \"Consolas\", \"Ubuntu Mono\", \"Source Code Pro\", monospace;\n",
       "    font-size: 13px;\n",
       "    color: #555;\n",
       "    margin-left: 4px;\n",
       "    line-height: 19px;\n",
       "  }\n",
       "</style>\n",
       "<div class=\"ansiout\">&lt;AxesSubplot:&gt;</div>"
      ]
     },
     "metadata": {
      "application/vnd.databricks.v1+output": {
       "addedWidgets": {},
       "arguments": {},
       "data": "<div class=\"ansiout\">&lt;AxesSubplot:&gt;</div>",
       "datasetInfos": [],
       "metadata": {},
       "removedWidgets": [],
       "type": "html"
      }
     },
     "output_type": "display_data"
    }
   ],
   "source": [
    "gdf.plot()"
   ]
  },
  {
   "cell_type": "code",
   "execution_count": 0,
   "metadata": {
    "application/vnd.databricks.v1+cell": {
     "cellMetadata": {
      "byteLimit": 2048000,
      "rowLimit": 10000
     },
     "inputWidgets": {},
     "nuid": "ac9b81e5-9169-4aff-ab00-d83ef9aab354",
     "showTitle": false,
     "title": ""
    }
   },
   "outputs": [
    {
     "output_type": "display_data",
     "data": {
      "text/html": [
       "<style scoped>\n",
       "  .ansiout {\n",
       "    display: block;\n",
       "    unicode-bidi: embed;\n",
       "    white-space: pre-wrap;\n",
       "    word-wrap: break-word;\n",
       "    word-break: break-all;\n",
       "    font-family: \"Menlo\", \"Monaco\", \"Consolas\", \"Ubuntu Mono\", \"Source Code Pro\", monospace;\n",
       "    font-size: 13px;\n",
       "    color: #555;\n",
       "    margin-left: 4px;\n",
       "    line-height: 19px;\n",
       "  }\n",
       "</style>\n",
       "<div class=\"ansiout\"></div>"
      ]
     },
     "metadata": {
      "application/vnd.databricks.v1+output": {
       "addedWidgets": {},
       "arguments": {},
       "data": "<div class=\"ansiout\"></div>",
       "datasetInfos": [],
       "metadata": {},
       "removedWidgets": [],
       "type": "html"
      }
     },
     "output_type": "display_data"
    }
   ],
   "source": [
    "def historical_shape_process():\n",
    "    try:\n",
    "        print('Processing historical tif files START')\n",
    "        print(\"-------------------------------------\")\n",
    "        files_paths = get_files_paths_from_folders(raw_folder_path, [\".tif\"])\n",
    "        output_file = \"temp_cog_file.tif\"\n",
    "\n",
    "        for input_file in files_paths:\n",
    "            prod_file_path = build_prod_file_path(input_file, prod_folder_path, extention=\"_cog.tif\")\n",
    "            convert_tif_to_cog(input_file, output_file)\n",
    "            dbutils.fs.mv(f'{driver_path}{output_file}', dest_path)\n",
    "                   \n",
    "        print('Files Processed')\n",
    "    except Exception as error:\n",
    "        print(error)"
   ]
  },
  {
   "cell_type": "code",
   "execution_count": 0,
   "metadata": {
    "application/vnd.databricks.v1+cell": {
     "cellMetadata": {
      "byteLimit": 2048000,
      "rowLimit": 10000
     },
     "inputWidgets": {},
     "nuid": "91550d57-775c-4bd4-aa52-59c47994777c",
     "showTitle": false,
     "title": ""
    }
   },
   "outputs": [
    {
     "output_type": "display_data",
     "data": {
      "text/html": [
       "<style scoped>\n",
       "  .ansiout {\n",
       "    display: block;\n",
       "    unicode-bidi: embed;\n",
       "    white-space: pre-wrap;\n",
       "    word-wrap: break-word;\n",
       "    word-break: break-all;\n",
       "    font-family: \"Menlo\", \"Monaco\", \"Consolas\", \"Ubuntu Mono\", \"Source Code Pro\", monospace;\n",
       "    font-size: 13px;\n",
       "    color: #555;\n",
       "    margin-left: 4px;\n",
       "    line-height: 19px;\n",
       "  }\n",
       "</style>\n",
       "<div class=\"ansiout\"></div>"
      ]
     },
     "metadata": {
      "application/vnd.databricks.v1+output": {
       "addedWidgets": {},
       "arguments": {},
       "data": "<div class=\"ansiout\"></div>",
       "datasetInfos": [],
       "metadata": {},
       "removedWidgets": [],
       "type": "html"
      }
     },
     "output_type": "display_data"
    }
   ],
   "source": [
    "#historical_tif_process()"
   ]
  }
 ],
 "metadata": {
  "application/vnd.databricks.v1+notebook": {
   "dashboards": [
    {
     "elements": [
      {
       "dashboardResultIndex": null,
       "elementNUID": "c18bd0b5-1155-4011-9337-af682095d4a0",
       "elementType": "command",
       "guid": "5fabc220-d4b5-4a53-8a15-549a01bd9235",
       "options": null,
       "position": {
        "height": 4,
        "width": 12,
        "x": 0,
        "y": 0,
        "z": null
       },
       "resultIndex": null
      }
     ],
     "globalVars": {},
     "guid": "",
     "layoutOption": {
      "grid": true,
      "stack": true
     },
     "nuid": "38c86224-690a-4cb9-a5f8-02e7d96034b8",
     "origId": 3286416373471400,
     "title": "Untitled",
     "version": "DashboardViewV1",
     "width": 1024
    }
   ],
   "environmentMetadata": null,
   "language": "python",
   "notebookMetadata": {
    "mostRecentlyExecutedCommandWithImplicitDF": {
     "commandId": -1,
     "dataframes": [
      "_sqldf"
     ]
    },
    "pythonIndentUnit": 4
   },
   "notebookName": "historical_shape_file_process",
   "widgets": {}
  }
 },
 "nbformat": 4,
 "nbformat_minor": 0
}
