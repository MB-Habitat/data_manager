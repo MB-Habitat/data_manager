{
 "cells": [
  {
   "cell_type": "markdown",
   "metadata": {
    "application/vnd.databricks.v1+cell": {
     "cellMetadata": {},
     "inputWidgets": {},
     "nuid": "c18bd0b5-1155-4011-9337-af682095d4a0",
     "showTitle": false,
     "title": ""
    }
   },
   "source": [
    "%md\n",
    "---\n",
    "Author: Mustapha Bouhsen <br>\n",
    "Email : mustapha.bouhsen@habitat-nature.com <br>\n",
    "Date: July 31, 2024<br>\n",
    "---"
   ]
  },
  {
   "cell_type": "code",
   "execution_count": 0,
   "metadata": {
    "application/vnd.databricks.v1+cell": {
     "cellMetadata": {
      "byteLimit": 2048000,
      "rowLimit": 10000
     },
     "collapsed": true,
     "inputWidgets": {},
     "nuid": "94f76489-6c2b-4ee6-9e8e-a46a409f69c4",
     "showTitle": false,
     "title": ""
    }
   },
   "outputs": [],
   "source": [
    "%run /Workspace/Users/mustapha.bouhsen@habitat-nature.com/data_manager/utility_functions"
   ]
  },
  {
   "cell_type": "code",
   "execution_count": 0,
   "metadata": {
    "application/vnd.databricks.v1+cell": {
     "cellMetadata": {
      "byteLimit": 2048000,
      "rowLimit": 10000
     },
     "inputWidgets": {},
     "nuid": "4e384a99-d7b3-45be-b602-0daf23ace661",
     "showTitle": false,
     "title": ""
    }
   },
   "outputs": [],
   "source": [
    "tif_file = [\".tif\"]"
   ]
  },
  {
   "cell_type": "code",
   "execution_count": 0,
   "metadata": {
    "application/vnd.databricks.v1+cell": {
     "cellMetadata": {
      "byteLimit": 2048000,
      "rowLimit": 10000
     },
     "inputWidgets": {},
     "nuid": "232fb555-beef-47ea-bd0b-ff9de735cfe4",
     "showTitle": false,
     "title": ""
    }
   },
   "outputs": [],
   "source": [
    "raw_folder_path = \"/mnt/database/raw/\"\n",
    "prod_folder_path = \"/mnt/database/prod/\""
   ]
  },
  {
   "cell_type": "code",
   "execution_count": 0,
   "metadata": {
    "application/vnd.databricks.v1+cell": {
     "cellMetadata": {
      "byteLimit": 2048000,
      "rowLimit": 10000
     },
     "inputWidgets": {},
     "nuid": "947cda29-08bd-4645-a927-4470fa5e445e",
     "showTitle": false,
     "title": ""
    }
   },
   "outputs": [],
   "source": [
    "storage_account_name=\"datatest42\"\n",
    "blob_key = \"sv=2022-11-02&ss=bfqt&srt=sco&sp=rwdlacupyx&se=2024-08-31T03:31:55Z&st=2024-07-15T19:31:55Z&spr=https&sig=L3Ly%2Fos9foips1W5CkGiyg0hXZc%2BT2FzPN%2FuHOe%2BY58%3D\""
   ]
  },
  {
   "cell_type": "code",
   "execution_count": 0,
   "metadata": {
    "application/vnd.databricks.v1+cell": {
     "cellMetadata": {
      "byteLimit": 2048000,
      "rowLimit": 10000
     },
     "inputWidgets": {},
     "nuid": "20c12e28-ae51-454c-baca-0933388d946f",
     "showTitle": false,
     "title": ""
    }
   },
   "outputs": [],
   "source": [
    "files_paths = get_files_paths_from_folders(raw_folder_path, tif_file)"
   ]
  },
  {
   "cell_type": "code",
   "execution_count": 0,
   "metadata": {
    "application/vnd.databricks.v1+cell": {
     "cellMetadata": {
      "byteLimit": 2048000,
      "rowLimit": 10000
     },
     "inputWidgets": {},
     "nuid": "1f390702-1ea4-4cd6-9422-4e687a046858",
     "showTitle": false,
     "title": ""
    }
   },
   "outputs": [],
   "source": [
    "architecture = [\"country\", \"region\", \"subject\", \"year\"]"
   ]
  },
  {
   "cell_type": "code",
   "execution_count": 0,
   "metadata": {
    "application/vnd.databricks.v1+cell": {
     "cellMetadata": {
      "byteLimit": 2048000,
      "rowLimit": 10000
     },
     "inputWidgets": {},
     "nuid": "cf4d8fb4-a17a-4592-a186-c461b2cd2d12",
     "showTitle": false,
     "title": ""
    }
   },
   "outputs": [],
   "source": [
    "for file in files_paths:\n",
    "    my_file = \"/\" + file.replace(\":\", \"\")\n",
    "    theme = my_file.split(\"/\")[-2:][0]\n",
    "    file_name = my_file.split(\"/\")[-2:][1]\n",
    "\n",
    "    file_parts = file_name.split(\".\")[0].split(\"_\")\n"
   ]
  },
  {
   "cell_type": "code",
   "execution_count": 0,
   "metadata": {
    "application/vnd.databricks.v1+cell": {
     "cellMetadata": {
      "byteLimit": 2048000,
      "rowLimit": 10000
     },
     "inputWidgets": {},
     "nuid": "d0ab14ca-d920-4670-be56-6908875a4404",
     "showTitle": false,
     "title": ""
    }
   },
   "outputs": [],
   "source": [
    "x = \"canada_qc_utilisation-territoire_2013.tif\""
   ]
  },
  {
   "cell_type": "code",
   "execution_count": 0,
   "metadata": {
    "application/vnd.databricks.v1+cell": {
     "cellMetadata": {
      "byteLimit": 2048000,
      "rowLimit": 10000
     },
     "inputWidgets": {},
     "nuid": "8def951e-dcd8-49fb-b1bd-7cedd86621ec",
     "showTitle": false,
     "title": ""
    }
   },
   "outputs": [],
   "source": [
    "parts = x.split(\".\")[0].split(\"_\")"
   ]
  },
  {
   "cell_type": "code",
   "execution_count": 0,
   "metadata": {
    "application/vnd.databricks.v1+cell": {
     "cellMetadata": {
      "byteLimit": 2048000,
      "rowLimit": 10000
     },
     "inputWidgets": {},
     "nuid": "26f46093-8ee5-40c1-9042-49b63f85a8a3",
     "showTitle": false,
     "title": ""
    }
   },
   "outputs": [],
   "source": [
    "dest_path = [prod_folder_path + theme] + [i+\"=\"+j for i, j in zip(architecture, parts)]"
   ]
  },
  {
   "cell_type": "code",
   "execution_count": 0,
   "metadata": {
    "application/vnd.databricks.v1+cell": {
     "cellMetadata": {
      "byteLimit": 2048000,
      "rowLimit": 10000
     },
     "inputWidgets": {},
     "nuid": "435369dd-a077-416b-a25d-7d9a61ac93b1",
     "showTitle": false,
     "title": ""
    }
   },
   "outputs": [],
   "source": [
    "os.path.join(*dest_path)"
   ]
  },
  {
   "cell_type": "code",
   "execution_count": 0,
   "metadata": {
    "application/vnd.databricks.v1+cell": {
     "cellMetadata": {
      "byteLimit": 2048000,
      "rowLimit": 10000
     },
     "inputWidgets": {},
     "nuid": "8bf6503f-e819-434f-99e9-f65d8755120b",
     "showTitle": false,
     "title": ""
    }
   },
   "outputs": [],
   "source": [
    "parts[-2]"
   ]
  }
 ],
 "metadata": {
  "application/vnd.databricks.v1+notebook": {
   "dashboards": [
    {
     "elements": [
      {
       "dashboardResultIndex": null,
       "elementNUID": "c18bd0b5-1155-4011-9337-af682095d4a0",
       "elementType": "command",
       "guid": "5fabc220-d4b5-4a53-8a15-549a01bd9235",
       "options": null,
       "position": {
        "height": 4,
        "width": 12,
        "x": 0,
        "y": 0,
        "z": null
       },
       "resultIndex": null
      }
     ],
     "globalVars": {},
     "guid": "",
     "layoutOption": {
      "grid": true,
      "stack": true
     },
     "nuid": "38c86224-690a-4cb9-a5f8-02e7d96034b8",
     "origId": 1727108096262262,
     "title": "Untitled",
     "version": "DashboardViewV1",
     "width": 1024
    }
   ],
   "environmentMetadata": null,
   "language": "python",
   "notebookMetadata": {
    "mostRecentlyExecutedCommandWithImplicitDF": {
     "commandId": -1,
     "dataframes": [
      "_sqldf"
     ]
    },
    "pythonIndentUnit": 4
   },
   "notebookName": "historical_tif_file_process",
   "widgets": {}
  }
 },
 "nbformat": 4,
 "nbformat_minor": 0
}
